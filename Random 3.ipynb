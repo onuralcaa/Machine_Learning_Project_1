{
 "cells": [
  {
   "cell_type": "markdown",
   "id": "ec22c482",
   "metadata": {},
   "source": [
    "## 1. Dayanaklar ve Değişken Seçimi\n",
    "### Ekonomik Göstergeler\n",
    "Bu göstergeler, ülkelerin ekonomik kalkınma seviyelerini ve ekonomik sürdürülebilirliklerini yansıtır:\n",
    "\n",
    "**Gdp_Buyume (GSYİH Büyüme Oranı)**: Ekonomik kalkınmanın hızını gösterir.\n",
    "\n",
    "**Gdp_KisiBasi (Kişi Başı GSYİH)**: Yaşam standardının bir göstergesidir.\n",
    "\n",
    "Dayanak:\n",
    "\n",
    "Birleşmiş Milletler Kalkınma Programı (UNDP) tarafından kullanılan İnsani Gelişme Endeksi (HDI) hesaplamalarında ekonomik göstergeler kullanılır.\n",
    "\n",
    "----------------------\n",
    "### Enerji Erişimi ve Kullanımı\n",
    "Enerji, kalkınmanın önemli bir parçasıdır. Hem erişim hem de tüketim analiz edilmelidir:\n",
    "\n",
    "**Elektrik_Erisim_%**: Elektrik erişimi, modern yaşam standartlarını doğrudan etkiler.\n",
    "\n",
    "**Temiz_Yakit_Erisim**: Temiz yakıt kullanımı, sağlık ve çevre sürdürülebilirliğini temsil eder.\n",
    "\n",
    "**KisiBasi_Enerji_Tuketimi**: Enerji tüketimi ekonomik büyüme ile ilişkilidir.\n",
    "\n",
    "Dayanak:\n",
    "\n",
    "Dünya Bankası ve Uluslararası Enerji Ajansı (IEA) tarafından düşük enerji erişiminin kalkınma önünde bir engel olduğu vurgulanır.\n",
    "\n",
    "-----------\n",
    "### Yenilenebilir Enerji Kullanımı\n",
    "Sürdürülebilirlik ve çevre dostu enerji kaynakları, uzun vadeli kalkınma hedeflerinin temel taşlarındandır:\n",
    "\n",
    "**Yenilenebilir_Kapasite_KisiBasi**: Yenilenebilir enerji üretim kapasitesi kişi başına düşen değer olarak hesaplanır.\n",
    "\n",
    "**Yenilenebilir_Enerji_Orani**: Toplam enerji tüketimindeki yenilenebilir enerji oranını gösterir.\n",
    "\n",
    "Dayanak:\n",
    "\n",
    "Birleşmiş Milletler Sürdürülebilir Kalkınma Hedefleri’nde (SDG 7) temiz enerjiye geçiş vurgulanır.\n",
    "\n",
    "\n",
    "-----------\n",
    "### Çevresel Göstergeler\n",
    "Karbon emisyonları ve fosil yakıt kullanımı, çevresel sürdürülebilirlik için kritik göstergelerdir:\n",
    "\n",
    "**CO2_Emisyonu_kt**: Karbon emisyonlarının miktarı.\n",
    "\n",
    "**Fosil_Yakit_Elektrik_TWh**: Fosil yakıt kaynaklı elektrik üretimi, çevresel etkiyi yansıtır.\n",
    "\n",
    "**Enerji_Yoğunluğu**: Enerji verimliliği ve çevresel sürdürülebilirlik açısından önemli bir göstergedir.\n",
    "\n",
    "Dayanak:\n",
    "\n",
    "Paris İklim Anlaşması gibi uluslararası çevre anlaşmalarında karbon emisyonları ve enerji yoğunluğu azaltma hedefleri yer alır."
   ]
  },
  {
   "cell_type": "code",
   "execution_count": null,
   "id": "689bd9ea",
   "metadata": {},
   "outputs": [],
   "source": []
  }
 ],
 "metadata": {
  "kernelspec": {
   "display_name": "Python 3 (ipykernel)",
   "language": "python",
   "name": "python3"
  },
  "language_info": {
   "codemirror_mode": {
    "name": "ipython",
    "version": 3
   },
   "file_extension": ".py",
   "mimetype": "text/x-python",
   "name": "python",
   "nbconvert_exporter": "python",
   "pygments_lexer": "ipython3",
   "version": "3.11.5"
  }
 },
 "nbformat": 4,
 "nbformat_minor": 5
}
